{
 "cells": [
  {
   "cell_type": "markdown",
   "metadata": {},
   "source": [
    "# Group Assignment 1\n",
    "\n",
    "\n",
    "### Group Members:\n",
    "#### Alison Chow\n",
    "#### Colby Collins\n",
    "#### Nicholas Lacey\n",
    "#### George Massie\n",
    "---\n",
    "## PART 2\n",
    "### Idea 1\n",
    "\n",
    "a. i. The idea is a repository for vehicles, associated gas efficiency, and to see if there are relationships between those two factors and the amount of miles driven on average.\n",
    "---\n",
    "a. ii. This idea has more than likely been done before but we believe it will be a good learning experience from a database/SQL type approach. \n",
    "---\n",
    "a. iii. This could be loosely based on already existing products, like GasBuddy, but it is a new idea to our group.\n",
    "---\n",
    "a. iv. A typical interaction would be using this data with local government/other interested parties to see how gas prices affect total distance traveled in vehicles with that data being able to be analyzed, applied, and projected to yearly gas price trends. Another interaction would be for projecting the local area's fuel use for vehicles with the indepedent variable being the gas price and the dependent variable being the amount of miles driven, on average based off of our results/relationships.\n",
    "---\n",
    "   1. Gas prices at various local gas stations.\n",
    "   2. Which gas stations were used to refill which vehicle.\n",
    "   3. Vehicle and general gas efficiency of the vehicle.\n",
    "   4. Vehicle and vehicle owner.\n",
    "   5. Vehicle and amount of distance traveled per week.\n",
    "---\n",
    "b. i. The \"end-user\" data for this idea is idea 5. We would need some sort of software, possibly using existing software like Google Maps or Waze, to record the real-time data of the driver's habits. Another idea would be having the owners manually input their driving habits but this would be subject to human error.\n",
    "---\n",
    "b. ii. Attributes would include vehicle make, vehicle model, vehicle year, vehicle owner, whether or not the driving occurred in an urban/highway setting (impacts MPG), distances traveled in a week, owner demographics (age, occupation), information about the local gas stations (name, location, prices, type of fuel they carry), the fueling habits of the owners (how much and what type of fuel they used), general gas efficiency of the vehicles, and whether or not the vehicle is labeled as \"eco-friendly\".\n",
    "---\n",
    "c. The relevent image is attached within GitHub.\n",
    "---\n",
    "d. The goal of this idea is to see if there is a relationship or an influence between the price of gas and the amount of distance driven. This would be useful data not only for the sake of having data but also to see if the implementation of \"eco-friendly\" cars could influence behaviors.\n",
    "---\n",
    "\n",
    "***\n"
   ]
  }
 ],
 "metadata": {
  "kernelspec": {
   "display_name": "Python 3",
   "language": "python",
   "name": "python3"
  },
  "language_info": {
   "codemirror_mode": {
    "name": "ipython",
    "version": 3
   },
   "file_extension": ".py",
   "mimetype": "text/x-python",
   "name": "python",
   "nbconvert_exporter": "python",
   "pygments_lexer": "ipython3",
   "version": "3.7.3"
  }
 },
 "nbformat": 4,
 "nbformat_minor": 2
}
