{
 "cells": [
  {
   "cell_type": "markdown",
   "metadata": {},
   "source": [
    "#### Source\n",
    "Original designed for OpenVis 2018, developed by Mike Bostock (edited by Patrick Dudas)\n",
    "\n",
    "[Original Source](https://observablehq.com/@maartenzam/openvis-2018-exercises) "
   ]
  },
  {
   "cell_type": "markdown",
   "metadata": {},
   "source": [
    "## Markdown\n",
    "\n",
    "Jupyter favors GitHub-flavored Markdown. We won’t cover all the features of Markdown in this class, but here are a few useful techniques that go beyond paragraphs of text.\n",
    "\n",
    "Hints: See the [Standard Library](https://github.com/observablehq/notebook-stdlib/blob/master/README.md#markdown),  [Mastering Markdown](https://guides.github.com/features/mastering-markdown/), and [Github-adam-p/markdown-here](https://github.com/adam-p/markdown-here/wiki/Markdown-Cheatsheet)."
   ]
  },
  {
   "cell_type": "markdown",
   "metadata": {},
   "source": [
    "fuck"
   ]
  },
  {
   "cell_type": "markdown",
   "metadata": {},
   "source": [
    "#### Headers\n",
    "\n",
    "# H1\n",
    "## H2\n",
    "### H3\n",
    "#### H4\n",
    "##### H5\n",
    "###### H6"
   ]
  },
  {
   "cell_type": "markdown",
   "metadata": {},
   "source": [
    "#### Emphasis"
   ]
  },
  {
   "cell_type": "markdown",
   "metadata": {},
   "source": [
    "Emphasis, aka italics, with *asterisks* or _underscores_.\n",
    "\n",
    "Strong emphasis, aka bold, with **asterisks** or __underscores__.\n",
    "\n",
    "Combined emphasis with **asterisks and _underscores_**.\n",
    "\n",
    "Strikethrough uses two tildes. ~~Scratch this.~~"
   ]
  },
  {
   "cell_type": "markdown",
   "metadata": {},
   "source": [
    "#### Horizontal Rule"
   ]
  },
  {
   "cell_type": "markdown",
   "metadata": {},
   "source": [
    "Three or more...\n",
    "\n",
    "---\n",
    "\n",
    "Hyphens\n",
    "\n",
    "***\n",
    "\n",
    "Asterisks\n",
    "\n",
    "___\n",
    "\n",
    "Underscores"
   ]
  },
  {
   "cell_type": "markdown",
   "metadata": {},
   "source": [
    "#### Create a new cell with a table."
   ]
  },
  {
   "cell_type": "markdown",
   "metadata": {},
   "source": [
    "\n",
    "| Name   | Symbol      | Atomic number |\n",
    "|--------|-------------|---------------|\n",
    "| Cobalt | Co          | 27            |\n",
    "| Copper | Cu          | 29            |\n",
    "| Tin    | Sn          | 50            |\n",
    "| Lead   | Pb          | 82            |"
   ]
  },
  {
   "cell_type": "markdown",
   "metadata": {},
   "source": [
    "#### Create a new cell with a numbered list."
   ]
  },
  {
   "cell_type": "markdown",
   "metadata": {},
   "source": [
    "1. This is the first item of the list.\n",
    "1. This is the second item.\n",
    "1. And this is the third and last."
   ]
  },
  {
   "cell_type": "markdown",
   "metadata": {},
   "source": [
    "#### Create a new cell with a list."
   ]
  },
  {
   "cell_type": "markdown",
   "metadata": {},
   "source": [
    "* Bananas\n",
    "* Apples\n",
    "* Grapes"
   ]
  },
  {
   "cell_type": "markdown",
   "metadata": {},
   "source": [
    "#### Create a new cell showing da Vinci’s [*La Joconde*](https://gist.githubusercontent.com/mbostock/9511ae067889eefa5537eedcbbf87dab/raw/944b6e5fe8dd535d6381b93d88bf4a854dac53d4/mona-lisa.jpg)."
   ]
  },
  {
   "cell_type": "markdown",
   "metadata": {},
   "source": [
    "<img style=\"width:480px;max-width:100%;\" src=\"https://gist.githubusercontent.com/mbostock/9511ae067889eefa5537eedcbbf87dab/raw/944b6e5fe8dd535d6381b93d88bf4a854dac53d4/mona-lisa.jpg\" alt=\"Drawing\" title=\"Mona Lisa\">"
   ]
  },
  {
   "cell_type": "markdown",
   "metadata": {},
   "source": [
    "#### For local files.."
   ]
  },
  {
   "cell_type": "markdown",
   "metadata": {},
   "source": [
    "<img style=\"width:480px;max-width:100%;|\" src=\"chart.svg\" alt=\"Voronoi overlay + Force-directed Graph\" title=\"Voronoi overlay + Force-directed Graph\"/>"
   ]
  },
  {
   "cell_type": "markdown",
   "metadata": {},
   "source": [
    "#### Missing link"
   ]
  },
  {
   "cell_type": "markdown",
   "metadata": {},
   "source": [
    "<img style=\"width:480px;max-width:100%;\" src=\"missing.svg\" alt=\"Missing Chart\" title=\"Missing Chart\"/>"
   ]
  },
  {
   "cell_type": "markdown",
   "metadata": {},
   "source": [
    "#### Adding a LaTeX equations"
   ]
  },
  {
   "cell_type": "markdown",
   "metadata": {},
   "source": [
    "You have probably heard of $E=mc^2$, but have you seen this! $$hf=\\phi=E_{k}$$"
   ]
  },
  {
   "cell_type": "markdown",
   "metadata": {},
   "source": [
    "As Einstein said:\n",
    "\n",
    "> Insanity: \n",
    "> doing the same thing over and over again and expecting different results."
   ]
  },
  {
   "cell_type": "markdown",
   "metadata": {},
   "source": [
    "#### Adding sections that look like code"
   ]
  },
  {
   "cell_type": "markdown",
   "metadata": {},
   "source": [
    "```javascript\n",
    "function someFunction(x) {\n",
    "    return x;\n",
    "}\n",
    "```"
   ]
  },
  {
   "cell_type": "markdown",
   "metadata": {},
   "source": [
    "#### Youtube videos\n",
    "**NOTE** Two quick corrections in the video: \n",
    "* Install Python 3.7 (NOT Python 2.7)\n",
    "* Instead of going to the link provided, please go to https://github.com/dudaspm/IST210 for the class materials"
   ]
  },
  {
   "cell_type": "markdown",
   "metadata": {},
   "source": [
    "<a href=\"https://www.youtube.com/watch?v=DbUnYgu2u_c\n",
    "\" target=\"_blank\"><img src=\"http://img.youtube.com/vi/DbUnYgu2u_c/0.jpg\" \n",
    "alt=\"IMAGE ALT TEXT HERE\" width=\"240\" height=\"180\" border=\"10\" /></a>"
   ]
  },
  {
   "cell_type": "markdown",
   "metadata": {},
   "source": [
    "### A bit more difficult, but still worth checking out!"
   ]
  },
  {
   "cell_type": "code",
   "execution_count": 1,
   "metadata": {},
   "outputs": [
    {
     "data": {
      "text/html": [
       "<svg width=48 height=48 fill=red>\n",
       "  <circle cx=24 cy=24 r=24></circle>\n",
       "</svg>\n"
      ],
      "text/plain": [
       "<IPython.core.display.HTML object>"
      ]
     },
     "metadata": {},
     "output_type": "display_data"
    }
   ],
   "source": [
    "%%html\n",
    "<svg width=48 height=48 fill=red>\n",
    "  <circle cx=24 cy=24 r=24></circle>\n",
    "</svg>"
   ]
  },
  {
   "cell_type": "code",
   "execution_count": 3,
   "metadata": {},
   "outputs": [
    {
     "data": {
      "application/javascript": [
       "require.config({\n",
       "    paths: {\n",
       "        d3: 'https://d3js.org/d3.v5.min'\n",
       "    }\n",
       "});\n"
      ],
      "text/plain": [
       "<IPython.core.display.Javascript object>"
      ]
     },
     "metadata": {},
     "output_type": "display_data"
    }
   ],
   "source": [
    "%%javascript\n",
    "require.config({\n",
    "    paths: {\n",
    "        d3: 'https://d3js.org/d3.v5.min'\n",
    "    }\n",
    "});"
   ]
  },
  {
   "cell_type": "code",
   "execution_count": 4,
   "metadata": {},
   "outputs": [
    {
     "data": {
      "application/javascript": [
       "(function(element) {\n",
       "    require(['d3'], function(d3) {   \n",
       "        var data = [1, 2, 4, 8, 16, 8, 4, 2, 1]\n",
       "\n",
       "        var svg = d3.select(element.get(0)).append('svg')\n",
       "            .attr('width', 400)\n",
       "            .attr('height', 200);\n",
       "        svg.selectAll('circle')\n",
       "            .data(data)\n",
       "            .enter()\n",
       "            .append('circle')\n",
       "            .attr(\"cx\", function(d, i) {return 40 * (i + 1);})\n",
       "            .attr(\"cy\", function(d, i) {return 100 + 30 * (i % 3 - 1);})\n",
       "            .style(\"fill\", \"#1570a4\")\n",
       "            .transition().duration(2000)\n",
       "            .attr(\"r\", function(d) {return 2*d;})\n",
       "        ;\n",
       "    })\n",
       "})(element);\n"
      ],
      "text/plain": [
       "<IPython.core.display.Javascript object>"
      ]
     },
     "metadata": {},
     "output_type": "display_data"
    }
   ],
   "source": [
    "%%javascript\n",
    "(function(element) {\n",
    "    require(['d3'], function(d3) {   \n",
    "        var data = [1, 2, 4, 8, 16, 8, 4, 2, 1]\n",
    "\n",
    "        var svg = d3.select(element.get(0)).append('svg')\n",
    "            .attr('width', 400)\n",
    "            .attr('height', 200);\n",
    "        svg.selectAll('circle')\n",
    "            .data(data)\n",
    "            .enter()\n",
    "            .append('circle')\n",
    "            .attr(\"cx\", function(d, i) {return 40 * (i + 1);})\n",
    "            .attr(\"cy\", function(d, i) {return 100 + 30 * (i % 3 - 1);})\n",
    "            .style(\"fill\", \"#1570a4\")\n",
    "            .transition().duration(2000)\n",
    "            .attr(\"r\", function(d) {return 2*d;})\n",
    "        ;\n",
    "    })\n",
    "})(element);"
   ]
  },
  {
   "cell_type": "code",
   "execution_count": 5,
   "metadata": {},
   "outputs": [
    {
     "data": {
      "text/html": [
       "<table><tr><td>1</td><td>2</td><td>3</td></tr><tr><td>4</td><td>5</td><td>6</td></tr><tr><td>7</td><td>8</td><td>9</td></tr></table>"
      ],
      "text/plain": [
       "<IPython.core.display.HTML object>"
      ]
     },
     "metadata": {},
     "output_type": "display_data"
    }
   ],
   "source": [
    "from IPython.display import HTML, display\n",
    "\n",
    "data = [[1,2,3],\n",
    "        [4,5,6],\n",
    "        [7,8,9],\n",
    "        ]\n",
    "\n",
    "display(HTML(\n",
    "   '<table><tr>{}</tr></table>'.format(\n",
    "       '</tr><tr>'.join(\n",
    "           '<td>{}</td>'.format('</td><td>'.join(str(_) for _ in row)) for row in data)\n",
    "       )\n",
    "))"
   ]
  },
  {
   "cell_type": "code",
   "execution_count": 6,
   "metadata": {},
   "outputs": [
    {
     "data": {
      "text/html": [
       "<table><tr><td>Lorem ipsum dolor sit amet, consectetur adipiscing elit. Sed a nulla interdum, bibendum purus nec, vehicula diam. Mauris dolor sapien, volutpat quis mi at, lacinia tristique dui. Vivamus aliquam at felis at tristique. Suspendisse purus eros, aliquam et diam sed, ultrices imperdiet tortor. Ut at urna iaculis, laoreet nunc eu, ultricies est. Nulla ultrices scelerisque iaculis. Phasellus mattis elit ac turpis porttitor feugiat. Sed tincidunt at arcu tempor suscipit. Donec quis velit nisi. Sed pellentesque libero magna.Curabitur viverra ullamcorper gravida. In imperdiet at felis ac vehicula. Suspendisse nec nulla ligula. Nulla tincidunt vel eros eget interdum. Nullam tristique tortor sed eros finibus, vitae blandit turpis ultricies. Aenean in nisi interdum, placerat velit at, mollis augue. Morbi cursus ullamcorper semper.Nunc non sollicitudin lacus. Donec in sem libero. Suspendisse hendrerit metus lorem, at viverra enim maximus sed. Mauris laoreet neque vulputate ligula sollicitudin, consequat eleifend turpis iaculis. In iaculis molestie dignissim. Mauris interdum pharetra lacinia. Donec cursus, arcu ac aliquet tristique, sem arcu pretium leo, a feugiat risus arcu non dui.</td><td><img style=\"width:480px;max-width:100%;\" src=\"https://gist.githubusercontent.com/mbostock/9511ae067889eefa5537eedcbbf87dab/raw/944b6e5fe8dd535d6381b93d88bf4a854dac53d4/mona-lisa.jpg\" alt=\"Drawing\" title=\"Mona Lisa\"></td> </tr></table>"
      ],
      "text/plain": [
       "<IPython.core.display.HTML object>"
      ]
     },
     "metadata": {},
     "output_type": "display_data"
    }
   ],
   "source": [
    "display(HTML(\n",
    "'<table><tr>'\n",
    "    '<td>Lorem ipsum dolor sit amet, consectetur adipiscing elit. Sed a nulla interdum, bibendum purus nec, vehicula diam. Mauris dolor sapien, volutpat quis mi at, lacinia tristique dui. Vivamus aliquam at felis at tristique. Suspendisse purus eros, aliquam et diam sed, ultrices imperdiet tortor. Ut at urna iaculis, laoreet nunc eu, ultricies est. Nulla ultrices scelerisque iaculis. Phasellus mattis elit ac turpis porttitor feugiat. Sed tincidunt at arcu tempor suscipit. Donec quis velit nisi. Sed pellentesque libero magna.'\n",
    "    'Curabitur viverra ullamcorper gravida. In imperdiet at felis ac vehicula. Suspendisse nec nulla ligula. Nulla tincidunt vel eros eget interdum. Nullam tristique tortor sed eros finibus, vitae blandit turpis ultricies. Aenean in nisi interdum, placerat velit at, mollis augue. Morbi cursus ullamcorper semper.'\n",
    "    'Nunc non sollicitudin lacus. Donec in sem libero. Suspendisse hendrerit metus lorem, at viverra enim maximus sed. Mauris laoreet neque vulputate ligula sollicitudin, consequat eleifend turpis iaculis. In iaculis molestie dignissim. Mauris interdum pharetra lacinia. Donec cursus, arcu ac aliquet tristique, sem arcu pretium leo, a feugiat risus arcu non dui.</td>'\n",
    "    '<td><img style=\"width:480px;max-width:100%;\" src=\"https://gist.githubusercontent.com/mbostock/9511ae067889eefa5537eedcbbf87dab/raw/944b6e5fe8dd535d6381b93d88bf4a854dac53d4/mona-lisa.jpg\" alt=\"Drawing\" title=\"Mona Lisa\"></td> '  \n",
    "'</tr></table>'\n",
    "))"
   ]
  },
  {
   "cell_type": "code",
   "execution_count": 7,
   "metadata": {},
   "outputs": [],
   "source": [
    "import ipywidgets as widgets\n",
    "from IPython.display import display"
   ]
  },
  {
   "cell_type": "code",
   "execution_count": 8,
   "metadata": {},
   "outputs": [
    {
     "data": {
      "application/vnd.jupyter.widget-view+json": {
       "model_id": "4a2ab6afbb254c75b1eeef870e4cbfc4",
       "version_major": 2,
       "version_minor": 0
      },
      "text/plain": [
       "IntSlider(value=7, continuous_update=False, description='Test:', max=10)"
      ]
     },
     "metadata": {},
     "output_type": "display_data"
    }
   ],
   "source": [
    "w = widgets.IntSlider(\n",
    "    value=7,\n",
    "    min=0,\n",
    "    max=10,\n",
    "    step=1,\n",
    "    description='Test:',\n",
    "    disabled=False,\n",
    "    continuous_update=False,\n",
    "    orientation='horizontal',\n",
    "    readout=True,\n",
    "    readout_format='d'\n",
    ")\n",
    "display(w)"
   ]
  },
  {
   "cell_type": "code",
   "execution_count": 10,
   "metadata": {},
   "outputs": [
    {
     "name": "stdout",
     "output_type": "stream",
     "text": [
      "2\n"
     ]
    }
   ],
   "source": [
    "print(w.value)"
   ]
  },
  {
   "cell_type": "code",
   "execution_count": null,
   "metadata": {},
   "outputs": [],
   "source": []
  }
 ],
 "metadata": {
  "kernelspec": {
   "display_name": "Python 3",
   "language": "python",
   "name": "python3"
  },
  "language_info": {
   "codemirror_mode": {
    "name": "ipython",
    "version": 3
   },
   "file_extension": ".py",
   "mimetype": "text/x-python",
   "name": "python",
   "nbconvert_exporter": "python",
   "pygments_lexer": "ipython3",
   "version": "3.7.3"
  }
 },
 "nbformat": 4,
 "nbformat_minor": 2
}
