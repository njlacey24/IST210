{
  "nbformat": 4,
  "nbformat_minor": 0,
  "metadata": {
    "colab": {
      "name": "Copy of TeamProjectVisualization.ipynb",
      "provenance": [],
      "collapsed_sections": [],
      "include_colab_link": true
    },
    "kernelspec": {
      "name": "python3",
      "display_name": "Python 3"
    }
  },
  "cells": [
    {
      "cell_type": "markdown",
      "metadata": {
        "id": "view-in-github",
        "colab_type": "text"
      },
      "source": [
        "<a href=\"https://colab.research.google.com/github/njlacey24/IST210/blob/master/SRA268_Final_Project.ipynb\" target=\"_parent\"><img src=\"https://colab.research.google.com/assets/colab-badge.svg\" alt=\"Open In Colab\"/></a>"
      ]
    },
    {
      "cell_type": "markdown",
      "metadata": {
        "id": "Kw5PZBtl0Ob6",
        "colab_type": "text"
      },
      "source": [
        "## AFC Football Team Spending Habits Compared to Win/Loss Ratio"
      ]
    },
    {
      "cell_type": "markdown",
      "metadata": {
        "id": "iXWAmSVB0Rno",
        "colab_type": "text"
      },
      "source": [
        "Contributors:\n",
        "\n",
        "\n",
        "*   Ahaan Bagwe\n",
        "*   Dylan Winick\n",
        "*   Nicholas Lacey\n"
      ]
    },
    {
      "cell_type": "markdown",
      "metadata": {
        "id": "WpaW-i5l0ZHn",
        "colab_type": "text"
      },
      "source": [
        "## Background"
      ]
    },
    {
      "cell_type": "markdown",
      "metadata": {
        "id": "E4VKsOvP0eev",
        "colab_type": "text"
      },
      "source": [
        "  Our group members are all big fans of watching professional sports, particularly football. We had initially planned to do a project concerning the spending habits of all professional sports teams and compare that data to their win ratio. We realized the scope of the idea was too much to be able to show data clearly while still conveying a message, so we reduced the scale of our project to only look at the NFL, specifically the AFC. Our group wants to examine the total amount of dollars that each NFL teams spends on their offensive line and defensive line in the form of salaries and see if a relationship exists between those two values and the team’s overall win/loss ratio. We also wanted to give our project a temporal aspect to our project to see that, if a relationship between the two values exists, does that relationship exist consistently throughout the years. \n",
        "\n",
        "Our group did some brainstorming about the different types of graphs to use and which ones would be suitable to show our data in a coherent, logical, and user-friendly manner. At first, our group considered using a spatial visualization because we thought that users would be able to identify their specific NFL team if it were displayed on a map instead of “generic” looking visualization. We would have used proportional symbolization to give a value to the teams based off of their ratio, but we realized we wanted to focus more on the data instead of making it the most user-friendly experience. We want to have our audience be people who are more familiar with NFL teams, spending habits, and general NFL knowledge instead of trying to appeal to somebody who may not be interested in the NFL. We instead chose a scatterplot and we believe it will be able to convey the data in a manner that isn’t boring but still tells a full story. That is the approach that we have taken to this project.\n"
      ]
    },
    {
      "cell_type": "markdown",
      "metadata": {
        "id": "7d8vfcGufV0_",
        "colab_type": "text"
      },
      "source": [
        "### Goal"
      ]
    },
    {
      "cell_type": "markdown",
      "metadata": {
        "id": "e1jKSGTjfY2H",
        "colab_type": "text"
      },
      "source": [
        "The goal of our project is to visualize a possible relationship between spending habits of NFL teams to their overall win/loss ratio."
      ]
    },
    {
      "cell_type": "markdown",
      "metadata": {
        "id": "GOxy_TvCfi54",
        "colab_type": "text"
      },
      "source": [
        "### Assumptions"
      ]
    },
    {
      "cell_type": "markdown",
      "metadata": {
        "id": "cw1v_1MMfnAR",
        "colab_type": "text"
      },
      "source": [
        "* Teams that spend more will have a higher win/loss ratio.\n",
        "* Teams who spend less with have a lower win/loss ratio.\n",
        "* There are confounding variables to this relationship.\n",
        "* If teams spend more in following years, their win/loss ratio will be better than before.\n",
        "* If teams spend less in following years, their win/loss ratio will be worse than before.\n",
        "* The data that we received is truthful in their numbers.\n",
        "* Players that are paid more are generally more useful for a team.\n",
        "* Players that are paid less are generally less useful for a team.\n",
        "* The teams pay their players based off game performance with no outstanding deals, incentives, or other contracts.\n",
        "* Different teams would pay the same amount for the same player.\n",
        "\n",
        "\n"
      ]
    },
    {
      "cell_type": "markdown",
      "metadata": {
        "id": "jKGILpu7gWr6",
        "colab_type": "text"
      },
      "source": [
        "### Data Sources"
      ]
    },
    {
      "cell_type": "markdown",
      "metadata": {
        "id": "uwCao7AtgbNn",
        "colab_type": "text"
      },
      "source": [
        "https://data.world/datasets/nfl\n",
        "\n",
        "We used two different datasets from this site. The first one we used was to see the overall win/loss ratio of each team. The second dataset that we used was for overall spending habits of all NFL teams. Thankfully, this information was extremely accessible to grab and only required very slight adjusting to be able to make it work within Tableau. We did a simple join on the datasets with the joining variable being the names of the NFL teams. This combined both of our datasets into a very easy to use file showing the win/loss ratios per team as well as their spending habits. We had multiple columns showing each of these variables since we wanted to be able to add a temporal element to the data with each of the columns housing data per year. From there, it was as easy as loading the dataset into Tableau and making the visualization.\n"
      ]
    },
    {
      "cell_type": "markdown",
      "metadata": {
        "id": "qcFak2v7g3jt",
        "colab_type": "text"
      },
      "source": [
        "## Dashboard (5)"
      ]
    },
    {
      "cell_type": "code",
      "metadata": {
        "id": "knG79vNP0Q0u",
        "colab_type": "code",
        "outputId": "ec365f61-d486-4e9c-e079-2722d7aa5b75",
        "colab": {
          "base_uri": "https://localhost:8080/",
          "height": 844
        }
      },
      "source": [
        "import IPython\n",
        "IPython.display.HTML(\"<div class='tableauPlaceholder' id='viz1587930290027' style='position: relative'><noscript><a href=''><img alt=' ' src='https:&#47;&#47;public.tableau.com&#47;static&#47;images&#47;AF&#47;AFCdata&#47;Dashboard1&#47;1_rss.png' style='border: none' /></a></noscript><object class='tableauViz'  style='display:none;'><param name='host_url' value='https%3A%2F%2Fpublic.tableau.com%2F' /> <param name='embed_code_version' value='3' /> <param name='site_root' value='' /><param name='name' value='AFCdata&#47;Dashboard1' /><param name='tabs' value='no' /><param name='toolbar' value='yes' /><param name='static_image' value='https:&#47;&#47;public.tableau.com&#47;static&#47;images&#47;AF&#47;AFCdata&#47;Dashboard1&#47;1.png' /> <param name='animate_transition' value='yes' /><param name='display_static_image' value='yes' /><param name='display_spinner' value='yes' /><param name='display_overlay' value='yes' /><param name='display_count' value='yes' /><param name='filter' value='publish=yes' /></object></div>                <script type='text/javascript'>                    var divElement = document.getElementById('viz1587930290027');                    var vizElement = divElement.getElementsByTagName('object')[0];                    if ( divElement.offsetWidth > 800 ) { vizElement.style.width='1000px';vizElement.style.height='827px';} else if ( divElement.offsetWidth > 500 ) { vizElement.style.width='1000px';vizElement.style.height='827px';} else { vizElement.style.width='100%';vizElement.style.height='777px';}                     var scriptElement = document.createElement('script');                    scriptElement.src = 'https://public.tableau.com/javascripts/api/viz_v1.js';                    vizElement.parentNode.insertBefore(scriptElement, vizElement);                </script>\")\n"
      ],
      "execution_count": 0,
      "outputs": [
        {
          "output_type": "execute_result",
          "data": {
            "text/html": [
              "<div class='tableauPlaceholder' id='viz1587930290027' style='position: relative'><noscript><a href=''><img alt=' ' src='https:&#47;&#47;public.tableau.com&#47;static&#47;images&#47;AF&#47;AFCdata&#47;Dashboard1&#47;1_rss.png' style='border: none' /></a></noscript><object class='tableauViz'  style='display:none;'><param name='host_url' value='https%3A%2F%2Fpublic.tableau.com%2F' /> <param name='embed_code_version' value='3' /> <param name='site_root' value='' /><param name='name' value='AFCdata&#47;Dashboard1' /><param name='tabs' value='no' /><param name='toolbar' value='yes' /><param name='static_image' value='https:&#47;&#47;public.tableau.com&#47;static&#47;images&#47;AF&#47;AFCdata&#47;Dashboard1&#47;1.png' /> <param name='animate_transition' value='yes' /><param name='display_static_image' value='yes' /><param name='display_spinner' value='yes' /><param name='display_overlay' value='yes' /><param name='display_count' value='yes' /><param name='filter' value='publish=yes' /></object></div>                <script type='text/javascript'>                    var divElement = document.getElementById('viz1587930290027');                    var vizElement = divElement.getElementsByTagName('object')[0];                    if ( divElement.offsetWidth > 800 ) { vizElement.style.width='1000px';vizElement.style.height='827px';} else if ( divElement.offsetWidth > 500 ) { vizElement.style.width='1000px';vizElement.style.height='827px';} else { vizElement.style.width='100%';vizElement.style.height='777px';}                     var scriptElement = document.createElement('script');                    scriptElement.src = 'https://public.tableau.com/javascripts/api/viz_v1.js';                    vizElement.parentNode.insertBefore(scriptElement, vizElement);                </script>"
            ],
            "text/plain": [
              "<IPython.core.display.HTML object>"
            ]
          },
          "metadata": {
            "tags": []
          },
          "execution_count": 1
        }
      ]
    },
    {
      "cell_type": "markdown",
      "metadata": {
        "id": "SvWfnlDjnos1",
        "colab_type": "text"
      },
      "source": [
        "## Conclusion"
      ]
    },
    {
      "cell_type": "markdown",
      "metadata": {
        "id": "rfWefr2gnxOG",
        "colab_type": "text"
      },
      "source": [
        "Throughout this project, both by gathering the data necessary to carry it out, and in observing the final output of our visualizations, we ended up learning some very insightful information about NFL spending patterns in the last few years. The main idea that we wanted to tackle was based on the age old myth in the NFL “All you need for a good team is a good defense”. So, we decided to look at the validity of this saying, or at least, a part of it. We decided to compare how much money was spent on the budgets of defenses for various NFL teams and compared that against their success rate in order to see if there was any correlation between the two. The major hypothesis that we were working with was that teams that spent more money on defense would have more wins under their belt, where as those that didn’t spend as much would inevitably have more losses. In order to control for any discrepancies between leagues, we decided to split the data and use mostly AFC teams, which would highlight to us any potential differences that might change our data, or the relationship between the two variables that we were at the time analyzing. The results turned out to be extremely eye opening, to say the least. Both visualizations showed that our initial hypotheses were correct. As it appeared, the more a team spent on defense, the better they did over all in terms of win/loss ratio. Though it was not a perfect translation of our hypothesis, the data seemed to be headed in the right direction. While more money was being spent, teams generally did better in terms of wins. Although, there were some discrepancies, in the fact that the team that ended up spending the most, didn’t actually get the most wins. Despite that, the trend that we saw was fairly linear. There were, however, some data points that we thought might be outliers. For instance, we took into account the win to lose rations of the Browns. They didn’t seem to be doing well, despite spending on defense. They consistently won the least amount of games out of the other teams used in our data points. However, after scrolling quite a bit between the visualizations in between years, we had quickly found out that the while the Browns in general lost, they did do better in terms of wins in years where they spent more, as opposed to when they spent less. As it turns out, our outlier helped in supporting our hypothesis. Thanks to this information, we can perhaps more confidently say that there is a correlation between spending and winning in the NFL. Of course, more information would be useful in terms of helping project which teams have the highest chance of winning, as correlation itself isn’t enough to justify claims. But, with this visualization we know that this is perhaps the correct direction to go in to conduct further research.\n"
      ]
    }
  ]
}