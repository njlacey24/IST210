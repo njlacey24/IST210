{
  "nbformat": 4,
  "nbformat_minor": 0,
  "metadata": {
    "colab": {
      "name": "GroupAssignment4.ipynb",
      "provenance": [],
      "collapsed_sections": []
    },
    "kernelspec": {
      "name": "python3",
      "display_name": "Python 3"
    }
  },
  "cells": [
    {
      "cell_type": "markdown",
      "metadata": {
        "id": "SCFMZSk_NMmj",
        "colab_type": "text"
      },
      "source": [
        "# Group Assignment 4\n",
        "\n",
        "\n",
        "### Group 28 Members:\n",
        "#### Alison Chow\n",
        "#### Colby Collins\n",
        "#### Nicholas Lacey\n",
        "#### George Massie\n",
        "---"
      ]
    },
    {
      "cell_type": "code",
      "metadata": {
        "id": "1PplfNh8NZxj",
        "colab_type": "code",
        "colab": {}
      },
      "source": [
        "import sqlite3 \n",
        "connectionToDatabase = sqlite3.connect('DriversFuelHabits') \n",
        "\n",
        "cursor = connectionToDatabase.cursor()\n",
        "cursor.execute('''drop table IF EXISTS Owners''')\n",
        "connectionToDatabase.commit()\n",
        "\n",
        "cursor.execute('''create table Owners (DLNumber text PRIMARY KEY, FName text, LName text, Age int)''')\n",
        "connectionToDatabase.commit()\n",
        "\n",
        "cursor = connectionToDatabase.cursor()\n",
        "cursor.execute('''drop table IF EXISTS TravelInformation''')\n",
        "connectionToDatabase.commit()\n",
        "\n",
        "cursor.execute('''create table TravelInformation (TravelTicket text PRIMARY KEY, WeekNumber text, DLNumber text, MilesDriven int, DrivingSetting text)''')\n",
        "connectionToDatabase.commit()\n",
        "\n",
        "cursor.execute('''drop table IF EXISTS Vehicles''')\n",
        "connectionToDatabase.commit()\n",
        "\n",
        "cursor.execute('''create table Vehicles (VINNumber text PRIMARY KEY, GasType text, DLNumber text, VehYear int, VehMake text, VehModel text, FuelEfficiency int, HybridStatus text)''')\n",
        "connectionToDatabase.commit()\n",
        "\n",
        "cursor = connectionToDatabase.cursor()\n",
        "cursor.execute('''drop table IF EXISTS GasStations''')\n",
        "connectionToDatabase.commit()\n",
        "\n",
        "cursor.execute('''create table GasStations (StationName text PRIMARY KEY, StationNumber int, GasType text, StorageCapacity int, Price float)''')\n",
        "connectionToDatabase.commit()"
      ],
      "execution_count": 0,
      "outputs": []
    },
    {
      "cell_type": "code",
      "metadata": {
        "id": "ohSj8YlkR38F",
        "colab_type": "code",
        "colab": {}
      },
      "source": [
        "cursor.execute('''insert into Owners values ('33296145', 'Jacob', 'Shank', '27' );''')\n",
        "connectionToDatabase.commit()\n",
        "cursor.execute('''insert into Owners values ('59644871', 'Adam', 'Party', '20' );''')\n",
        "connectionToDatabase.commit()\n",
        "cursor.execute('''insert into Owners values ('35888695', 'Mary', 'Lamb', '32' );''')\n",
        "connectionToDatabase.commit()\n",
        "cursor.execute('''insert into Owners values ('11487324', 'Cornell', 'McClain', '22' );''')\n",
        "connectionToDatabase.commit()\n",
        "cursor.execute('''insert into Owners values ('86524701', 'Amanda', 'Hoodlum', '45' );''')\n",
        "connectionToDatabase.commit()"
      ],
      "execution_count": 0,
      "outputs": []
    },
    {
      "cell_type": "code",
      "metadata": {
        "id": "dcSU5xNwT4KW",
        "colab_type": "code",
        "colab": {}
      },
      "source": [
        "cursor.execute('''insert into TravelInformation values ('01', '1', '33296145', '207', 'highway'  );''')\n",
        "connectionToDatabase.commit()\n",
        "cursor.execute('''insert into TravelInformation values ('02', '1', '59644871', '56', 'city'  );''')\n",
        "connectionToDatabase.commit()\n",
        "cursor.execute('''insert into TravelInformation values ('03', '1', '35888695', '107', 'city'  );''')\n",
        "connectionToDatabase.commit()\n",
        "cursor.execute('''insert into TravelInformation values ('04', '1', '11487324', '384', 'highway'  );''')\n",
        "connectionToDatabase.commit()\n",
        "cursor.execute('''insert into TravelInformation values ('05', '1', '86524701', '144', 'city'  );''')\n",
        "connectionToDatabase.commit()"
      ],
      "execution_count": 0,
      "outputs": []
    },
    {
      "cell_type": "code",
      "metadata": {
        "id": "mBslgOYqUyzB",
        "colab_type": "code",
        "colab": {}
      },
      "source": [
        "cursor.execute('''insert into Vehicles values ('2596358', 'regular', '33296145', '2007', 'Toyota', 'Corolla', '27', 'no'  );''')\n",
        "connectionToDatabase.commit()\n",
        "cursor.execute('''insert into Vehicles values ('8658201', 'regular', '59644871', '2019', 'Honda', 'Civic', '35', 'no'  );''')\n",
        "connectionToDatabase.commit()\n",
        "cursor.execute('''insert into Vehicles values ('0241366', 'diesel', '35888695', '2011', 'Ram', '1500', '17', 'no'  );''')\n",
        "connectionToDatabase.commit()\n",
        "cursor.execute('''insert into Vehicles values ('6657411', 'regular', '11487324', '1997', 'Nissan', 'Rogue', '22', 'no'  );''')\n",
        "connectionToDatabase.commit()\n",
        "cursor.execute('''insert into Vehicles values ('7765121', 'electric', '86524701', '2016', 'Tesla', 'Model 3', '89', 'yes'  );''')\n",
        "connectionToDatabase.commit()"
      ],
      "execution_count": 0,
      "outputs": []
    },
    {
      "cell_type": "code",
      "metadata": {
        "id": "1fF19iWmYQsO",
        "colab_type": "code",
        "colab": {}
      },
      "source": [
        "cursor.execute('''insert into GasStations values ('Sheetz', '0001', 'regular', '7000', '2.79'  );''')\n",
        "connectionToDatabase.commit()\n",
        "cursor.execute('''insert into GasStations values ('Exxon', '0002', 'regular', '8500', '2.89'  );''')\n",
        "connectionToDatabase.commit()\n",
        "cursor.execute('''insert into GasStations values ('Sunoco', '0003', 'diesel', '5000', '3.99'  );''')\n",
        "connectionToDatabase.commit()\n",
        "cursor.execute('''insert into GasStations values ('Giant Gasoline', '0004', 'regular', '12500', '2.79'  );''')\n",
        "connectionToDatabase.commit()\n",
        "cursor.execute('''insert into GasStations values ('Tesla Stop', '0005', 'electric', '9000', '0.79'  );''')\n",
        "connectionToDatabase.commit()"
      ],
      "execution_count": 0,
      "outputs": []
    },
    {
      "cell_type": "markdown",
      "metadata": {
        "id": "SxLmKPOOb2Zs",
        "colab_type": "text"
      },
      "source": [
        "![alt text](https://i.imgur.com/xidA9Bx.png)"
      ]
    },
    {
      "cell_type": "markdown",
      "metadata": {
        "id": "LdYUVK6qcssy",
        "colab_type": "text"
      },
      "source": [
        "Our group has to change our ER Diagram. We realized that the fifth database, \"Fuel\", didn't fit in well. We decided to add the 'Price' to Gas Stations. We also decided that each gas station will only sell one type of fuel, even though this is an unrealistic expectation of the real world."
      ]
    },
    {
      "cell_type": "markdown",
      "metadata": {
        "id": "-wsZpksnybd1",
        "colab_type": "text"
      },
      "source": [
        "----"
      ]
    },
    {
      "cell_type": "markdown",
      "metadata": {
        "id": "u7o_TJj5c_WA",
        "colab_type": "text"
      },
      "source": [
        "What is the average fuel efficiency per fuel type? \n",
        "\n",
        "This question is important to us because it gives us a baseline of the manufacture advertised MPG per fuel type. We can then use this information to track the user's MPG and compare the two pieces of information and track the deviation from the manufacture advertised MPG as the price of gasoline fluctuates. The results match up with our expectations because we made the data that way."
      ]
    },
    {
      "cell_type": "code",
      "metadata": {
        "id": "o95-Uk3Q6vU1",
        "colab_type": "code",
        "outputId": "ce6ac07d-92f6-47b5-dd16-791325d303ac",
        "colab": {
          "base_uri": "https://localhost:8080/",
          "height": 68
        }
      },
      "source": [
        "cursor.execute('''select GasType, AVG(FuelEfficiency) from Vehicles GROUP BY GasType''')\n",
        "for row in cursor.fetchall():\n",
        "  print (row)"
      ],
      "execution_count": 0,
      "outputs": [
        {
          "output_type": "stream",
          "text": [
            "('diesel', 17.0)\n",
            "('electric', 89.0)\n",
            "('regular', 28.0)\n"
          ],
          "name": "stdout"
        }
      ]
    },
    {
      "cell_type": "markdown",
      "metadata": {
        "id": "OBg2Ot3MdVju",
        "colab_type": "text"
      },
      "source": [
        "How many miles were driven by our users per week? \n",
        "\n",
        "This question is important because it gives us a piece of data that can be used for future exploitation. For example, we could fulfill our company's ultimate goal and provide a level of relationship between international gas prices and US driving habits and whether there is a positive or negative relationship. The results don't show much information in themselves but if the database was run in the real-world with thousands of users and for hundreds of weeks, we could further interpret the results."
      ]
    },
    {
      "cell_type": "code",
      "metadata": {
        "id": "hXHXmHvnykug",
        "colab_type": "code",
        "outputId": "c2669dad-f9dc-474b-e1f3-fd8d592c84f8",
        "colab": {
          "base_uri": "https://localhost:8080/",
          "height": 34
        }
      },
      "source": [
        "cursor.execute('''select WeekNumber, SUM(MilesDriven) from TravelInformation''')\n",
        "for row in cursor.fetchall():\n",
        "  print (row)"
      ],
      "execution_count": 0,
      "outputs": [
        {
          "output_type": "stream",
          "text": [
            "('1', 898)\n"
          ],
          "name": "stdout"
        }
      ]
    },
    {
      "cell_type": "markdown",
      "metadata": {
        "id": "9YmJ7Z_tdpRP",
        "colab_type": "text"
      },
      "source": [
        "Is there a relationship between the age of our users and whether or not they own a hybrid vehicle? \n",
        "\n",
        "This question won't be answered but the data may suggest a relationship exists. This question is important to us because it is a piece of data that our company could sell. Our potential customers would be marketing teams at vehicle manufacturing companies so they could adjust their advertising towards the goal demographics. The results were not what we were expecting. Our expectations were that hybrid owners would be younger than non-hybrid owners."
      ]
    },
    {
      "cell_type": "code",
      "metadata": {
        "id": "NwZ_Wf-y0SDe",
        "colab_type": "code",
        "outputId": "7c9e62d5-eb2d-4fb6-8d97-a1eff66e14e0",
        "colab": {
          "base_uri": "https://localhost:8080/",
          "height": 51
        }
      },
      "source": [
        "cursor.execute('''select AVG(o.Age), v.HybridStatus from Owners o LEFT JOIN Vehicles v ON v.DLNumber=o.DLNumber GROUP BY v.HybridStatus''')\n",
        "for row in cursor.fetchall():\n",
        "  print (row)"
      ],
      "execution_count": 0,
      "outputs": [
        {
          "output_type": "stream",
          "text": [
            "(25.25, 'no')\n",
            "(45.0, 'yes')\n"
          ],
          "name": "stdout"
        }
      ]
    }
  ]
}